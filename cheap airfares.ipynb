{
 "cells": [
  {
   "cell_type": "code",
   "execution_count": 1,
   "id": "0920793f",
   "metadata": {},
   "outputs": [
    {
     "name": "stdout",
     "output_type": "stream",
     "text": [
      "Requirement already satisfied: selenium in c:\\users\\reshma\\anaconda3\\lib\\site-packages (4.0.0)\n",
      "Requirement already satisfied: trio~=0.17 in c:\\users\\reshma\\anaconda3\\lib\\site-packages (from selenium) (0.19.0)\n",
      "Requirement already satisfied: trio-websocket~=0.9 in c:\\users\\reshma\\anaconda3\\lib\\site-packages (from selenium) (0.9.2)\n",
      "Requirement already satisfied: urllib3[secure]~=1.26 in c:\\users\\reshma\\anaconda3\\lib\\site-packages (from selenium) (1.26.4)\n",
      "Requirement already satisfied: async-generator>=1.9 in c:\\users\\reshma\\anaconda3\\lib\\site-packages (from trio~=0.17->selenium) (1.10)\n",
      "Requirement already satisfied: cffi>=1.14 in c:\\users\\reshma\\anaconda3\\lib\\site-packages (from trio~=0.17->selenium) (1.14.5)\n",
      "Requirement already satisfied: sortedcontainers in c:\\users\\reshma\\anaconda3\\lib\\site-packages (from trio~=0.17->selenium) (2.3.0)\n",
      "Requirement already satisfied: attrs>=19.2.0 in c:\\users\\reshma\\anaconda3\\lib\\site-packages (from trio~=0.17->selenium) (20.3.0)\n",
      "Requirement already satisfied: idna in c:\\users\\reshma\\anaconda3\\lib\\site-packages (from trio~=0.17->selenium) (2.10)\n",
      "Requirement already satisfied: sniffio in c:\\users\\reshma\\anaconda3\\lib\\site-packages (from trio~=0.17->selenium) (1.2.0)\n",
      "Requirement already satisfied: outcome in c:\\users\\reshma\\anaconda3\\lib\\site-packages (from trio~=0.17->selenium) (1.1.0)\n",
      "Requirement already satisfied: pycparser in c:\\users\\reshma\\anaconda3\\lib\\site-packages (from cffi>=1.14->trio~=0.17->selenium) (2.20)\n",
      "Requirement already satisfied: wsproto>=0.14 in c:\\users\\reshma\\anaconda3\\lib\\site-packages (from trio-websocket~=0.9->selenium) (1.0.0)\n",
      "Requirement already satisfied: certifi in c:\\users\\reshma\\anaconda3\\lib\\site-packages (from urllib3[secure]~=1.26->selenium) (2020.12.5)\n",
      "Requirement already satisfied: pyOpenSSL>=0.14 in c:\\users\\reshma\\anaconda3\\lib\\site-packages (from urllib3[secure]~=1.26->selenium) (20.0.1)\n",
      "Requirement already satisfied: cryptography>=1.3.4 in c:\\users\\reshma\\anaconda3\\lib\\site-packages (from urllib3[secure]~=1.26->selenium) (3.4.7)\n",
      "Requirement already satisfied: six>=1.5.2 in c:\\users\\reshma\\anaconda3\\lib\\site-packages (from pyOpenSSL>=0.14->urllib3[secure]~=1.26->selenium) (1.15.0)\n",
      "Requirement already satisfied: h11<1,>=0.9.0 in c:\\users\\reshma\\anaconda3\\lib\\site-packages (from wsproto>=0.14->trio-websocket~=0.9->selenium) (0.12.0)\n"
     ]
    }
   ],
   "source": [
    "! pip install selenium"
   ]
  },
  {
   "cell_type": "code",
   "execution_count": 2,
   "id": "451ff6d0",
   "metadata": {},
   "outputs": [],
   "source": [
    "import selenium\n",
    "from selenium import webdriver as wb\n",
    "import pandas as pd\n",
    "import numpy as np\n",
    "import datetime\n",
    "import time\n",
    "from datetime import date\n",
    "from selenium.webdriver.common.keys import Keys\n",
    "from selenium.webdriver.support.ui import WebDriverWait\n",
    "from selenium.webdriver.support import expected_conditions as EC\n",
    "from selenium.webdriver.common.by import By"
   ]
  },
  {
   "cell_type": "code",
   "execution_count": 3,
   "id": "a06815cd",
   "metadata": {},
   "outputs": [
    {
     "name": "stdout",
     "output_type": "stream",
     "text": [
      "C:\\webdrivers\n"
     ]
    },
    {
     "name": "stderr",
     "output_type": "stream",
     "text": [
      "<ipython-input-3-6b16d037cd57>:2: DeprecationWarning: executable_path has been deprecated, please pass in a Service object\n",
      "  driver = wb.Chrome(\"C:\\\\webdrivers\\\\chromedriver.exe\")\n"
     ]
    }
   ],
   "source": [
    "%cd \"C:\\webdrivers\"\n",
    "driver = wb.Chrome(\"C:\\\\webdrivers\\\\chromedriver.exe\")"
   ]
  },
  {
   "cell_type": "code",
   "execution_count": 4,
   "id": "66172530",
   "metadata": {},
   "outputs": [],
   "source": [
    "month = [1,1,1,1,1,1,1]\n",
    "month = [str(x).zfill(2) for x in month]\n",
    "day = [4,5,6,7,8,9,10,11]\n",
    "day = [str(x).zfill(2) for x in day]\n",
    "year = [2022,2022,2022,2022,2022,2022,2022]\n",
    "year = [str(x).zfill(4) for x in year]"
   ]
  },
  {
   "cell_type": "code",
   "execution_count": 5,
   "id": "c7300203",
   "metadata": {},
   "outputs": [
    {
     "name": "stderr",
     "output_type": "stream",
     "text": [
      "<ipython-input-5-86a0c10e6849>:19: DeprecationWarning: find_elements_by_* commands are deprecated. Please use find_elements() instead\n",
      "  FlightName_elements = driver.find_elements_by_xpath(\"//div[@class='pull-left airways-info-sect']\")\n",
      "<ipython-input-5-86a0c10e6849>:22: DeprecationWarning: The default dtype for empty Series will be 'object' instead of 'float64' in a future version. Specify a dtype explicitly to silence this warning.\n",
      "  FlightName = pd.Series(FlightName)\n",
      "<ipython-input-5-86a0c10e6849>:25: DeprecationWarning: find_elements_by_* commands are deprecated. Please use find_elements() instead\n",
      "  Price_elements = driver.find_elements_by_xpath(\"//span[@class='actual-price']\")\n",
      "<ipython-input-5-86a0c10e6849>:28: DeprecationWarning: The default dtype for empty Series will be 'object' instead of 'float64' in a future version. Specify a dtype explicitly to silence this warning.\n",
      "  Price = pd.Series(Price)\n",
      "<ipython-input-5-86a0c10e6849>:31: DeprecationWarning: find_elements_by_* commands are deprecated. Please use find_elements() instead\n",
      "  Fromcity_elements = driver.find_elements_by_xpath(\"//p[@class='dept-city']\")\n",
      "<ipython-input-5-86a0c10e6849>:33: DeprecationWarning: The default dtype for empty Series will be 'object' instead of 'float64' in a future version. Specify a dtype explicitly to silence this warning.\n",
      "  Fromcity = pd.Series(Fromcity)\n",
      "<ipython-input-5-86a0c10e6849>:36: DeprecationWarning: find_elements_by_* commands are deprecated. Please use find_elements() instead\n",
      "  Tocity_elements = driver.find_elements_by_xpath(\"//p[@class='arrival-city']\")\n",
      "<ipython-input-5-86a0c10e6849>:38: DeprecationWarning: The default dtype for empty Series will be 'object' instead of 'float64' in a future version. Specify a dtype explicitly to silence this warning.\n",
      "  Tocity = pd.Series(Tocity)\n",
      "<ipython-input-5-86a0c10e6849>:41: DeprecationWarning: find_elements_by_* commands are deprecated. Please use find_elements() instead\n",
      "  Duration_elements = driver.find_elements_by_xpath(\"//p[@class='fli-duration']\")\n",
      "<ipython-input-5-86a0c10e6849>:43: DeprecationWarning: The default dtype for empty Series will be 'object' instead of 'float64' in a future version. Specify a dtype explicitly to silence this warning.\n",
      "  Duration = pd.Series(Duration)\n",
      "<ipython-input-5-86a0c10e6849>:46: DeprecationWarning: find_elements_by_* commands are deprecated. Please use find_elements() instead\n",
      "  Deptime_elements = driver.find_elements_by_xpath(\"//div[@class='dept-time']\")\n",
      "<ipython-input-5-86a0c10e6849>:48: DeprecationWarning: The default dtype for empty Series will be 'object' instead of 'float64' in a future version. Specify a dtype explicitly to silence this warning.\n",
      "  Deptime = pd.Series(Deptime)\n",
      "<ipython-input-5-86a0c10e6849>:51: DeprecationWarning: find_elements_by_* commands are deprecated. Please use find_elements() instead\n",
      "  Arrtime_elements = driver.find_elements_by_xpath(\"//p[@class='reaching-time append_bottom3']\")\n",
      "<ipython-input-5-86a0c10e6849>:54: DeprecationWarning: The default dtype for empty Series will be 'object' instead of 'float64' in a future version. Specify a dtype explicitly to silence this warning.\n",
      "  Arrtime = pd.Series(Arrtime)\n",
      "<ipython-input-5-86a0c10e6849>:56: DeprecationWarning: find_elements_by_* commands are deprecated. Please use find_elements() instead\n",
      "  Date_elements = driver.find_elements_by_xpath(\"//div[@class='item blue_active']\")\n",
      "<ipython-input-5-86a0c10e6849>:60: DeprecationWarning: The default dtype for empty Series will be 'object' instead of 'float64' in a future version. Specify a dtype explicitly to silence this warning.\n",
      "  Date = pd.Series(Date)\n"
     ]
    },
    {
     "data": {
      "text/html": [
       "<div>\n",
       "<style scoped>\n",
       "    .dataframe tbody tr th:only-of-type {\n",
       "        vertical-align: middle;\n",
       "    }\n",
       "\n",
       "    .dataframe tbody tr th {\n",
       "        vertical-align: top;\n",
       "    }\n",
       "\n",
       "    .dataframe thead th {\n",
       "        text-align: right;\n",
       "    }\n",
       "</style>\n",
       "<table border=\"1\" class=\"dataframe\">\n",
       "  <thead>\n",
       "    <tr style=\"text-align: right;\">\n",
       "      <th></th>\n",
       "      <th>Date</th>\n",
       "      <th>Airline</th>\n",
       "      <th>From City</th>\n",
       "      <th>To City</th>\n",
       "      <th>Departure Time</th>\n",
       "      <th>Arrival Time</th>\n",
       "      <th>Flight Duration</th>\n",
       "      <th>Price</th>\n",
       "    </tr>\n",
       "  </thead>\n",
       "  <tbody>\n",
       "  </tbody>\n",
       "</table>\n",
       "</div>"
      ],
      "text/plain": [
       "Empty DataFrame\n",
       "Columns: [Date, Airline, From City, To City, Departure Time, Arrival Time, Flight Duration, Price]\n",
       "Index: []"
      ]
     },
     "execution_count": 5,
     "metadata": {},
     "output_type": "execute_result"
    }
   ],
   "source": [
    "# Creating an empty dataframe called 'Flight_Prices'\n",
    "Flight_Prices = pd.DataFrame()\n",
    "# Creating a for loop which will iterate through all the required pages of the website\n",
    "for a,b,c in zip(day,month,year):\n",
    "    driver.get(\"https://www.makemytrip.com/flight/search?tripType=O&itinerary=DEL-BOM-{}/{}/{}&paxType=A-1_C-0_I-0&cabinClass=E&sTime=1597828876664&forwardFlowRequired=true\".format(a,b,c))\n",
    "    time.sleep(15)\n",
    "    \n",
    "    lenOfPage = driver.execute_script(\"window.scrollTo(0, document.body.scrollHeight);var lenOfPage=document.body.scrollHeight;return lenOfPage;\")\n",
    "    match=False\n",
    "    while(match==False):\n",
    "        lastCount = lenOfPage\n",
    "        time.sleep(1)\n",
    "        lenOfPage = driver.execute_script(\"window.scrollTo(0, document.body.scrollHeight);var lenOfPage=document.body.scrollHeight;return lenOfPage;\")\n",
    "        if lastCount==lenOfPage:\n",
    "            match=True\n",
    "    \n",
    "    time.sleep(60)\n",
    "    # Extracting all the Airline names using xpath\n",
    "    FlightName_elements = driver.find_elements_by_xpath(\"//div[@class='pull-left airways-info-sect']\")\n",
    "    FlightName_elements = [x.text for x in FlightName_elements]\n",
    "    FlightName = [x.split('\\n')[0] for x in FlightName_elements]\n",
    "    FlightName = pd.Series(FlightName)\n",
    "    \n",
    "    # Extracting all the prices using xpath\n",
    "    Price_elements = driver.find_elements_by_xpath(\"//span[@class='actual-price']\")\n",
    "    Price = [x.text for x in Price_elements]\n",
    "    Price = [i for i in Price if i]\n",
    "    Price = pd.Series(Price)\n",
    "    \n",
    "    # Extracting all the Source City details using xpath\n",
    "    Fromcity_elements = driver.find_elements_by_xpath(\"//p[@class='dept-city']\")\n",
    "    Fromcity = [x.text for x in Fromcity_elements]\n",
    "    Fromcity = pd.Series(Fromcity)\n",
    "    \n",
    "    # Extracting all the Destination City details using xpath\n",
    "    Tocity_elements = driver.find_elements_by_xpath(\"//p[@class='arrival-city']\")\n",
    "    Tocity = [x.text for x in Tocity_elements]\n",
    "    Tocity = pd.Series(Tocity)\n",
    "    \n",
    "    # Extracting all the Duration details using xpath\n",
    "    Duration_elements = driver.find_elements_by_xpath(\"//p[@class='fli-duration']\")\n",
    "    Duration = [x.text for x in Duration_elements]\n",
    "    Duration = pd.Series(Duration)\n",
    "    \n",
    "     # Extracting all the Departure time details using xpath\n",
    "    Deptime_elements = driver.find_elements_by_xpath(\"//div[@class='dept-time']\")\n",
    "    Deptime = [x.text for x in Deptime_elements]\n",
    "    Deptime = pd.Series(Deptime)\n",
    "    \n",
    "     # Extracting all the Arrival Time details using xpath\n",
    "    Arrtime_elements = driver.find_elements_by_xpath(\"//p[@class='reaching-time append_bottom3']\")\n",
    "    Arrtime = [x.text for x in Arrtime_elements]\n",
    "    Arrtime = [x.split(\"+\", 1)[0] for x in Arrtime]\n",
    "    Arrtime = pd.Series(Arrtime)\n",
    "    \n",
    "    Date_elements = driver.find_elements_by_xpath(\"//div[@class='item blue_active']\")\n",
    "    Date_elements = [x.text for x in Date_elements]\n",
    "    x = [x.split(',', 1)[1] for x in Date_elements]\n",
    "    Date = [i.split('\\n', 1)[0] for i in x]\n",
    "    Date = pd.Series(Date)\n",
    "            \n",
    "    # Combining all the lists into a dataframe called 'df'\n",
    "    df = pd.DataFrame({'Date':Date,\"Airline\":FlightName,\"From City\":Fromcity, \"To City\":Tocity, \"Departure Time\":Deptime,\"Arrival Time\":Arrtime,\"Flight Duration\":Duration,\"Price\":Price})\n",
    "    \n",
    "    # We will append the results obtained from every page into the empty datafram created earlier called 'Flight_Prices'\n",
    "    Flight_Prices = Flight_Prices.append(df) \n",
    "        \n",
    "Flight_Prices[Flight_Prices.Date==\"\"] = np.NaN\n",
    "Flight_Prices.Date = Flight_Prices.Date.fillna(method='ffill')\n",
    "Flight_Prices.Price = Flight_Prices.Price.astype(str).str.replace(\",\",\"\").str.extract('(\\d+)')\n",
    "Flight_Prices"
   ]
  },
  {
   "cell_type": "code",
   "execution_count": 6,
   "id": "e7f66099",
   "metadata": {},
   "outputs": [],
   "source": [
    "Flight_Prices['Price'] = pd.to_numeric(Flight_Prices['Price'])"
   ]
  },
  {
   "cell_type": "code",
   "execution_count": 7,
   "id": "766ac1a2",
   "metadata": {},
   "outputs": [
    {
     "data": {
      "text/html": [
       "<div>\n",
       "<style scoped>\n",
       "    .dataframe tbody tr th:only-of-type {\n",
       "        vertical-align: middle;\n",
       "    }\n",
       "\n",
       "    .dataframe tbody tr th {\n",
       "        vertical-align: top;\n",
       "    }\n",
       "\n",
       "    .dataframe thead th {\n",
       "        text-align: right;\n",
       "    }\n",
       "</style>\n",
       "<table border=\"1\" class=\"dataframe\">\n",
       "  <thead>\n",
       "    <tr style=\"text-align: right;\">\n",
       "      <th></th>\n",
       "      <th>Date</th>\n",
       "      <th>Airline</th>\n",
       "      <th>From City</th>\n",
       "      <th>To City</th>\n",
       "      <th>Departure Time</th>\n",
       "      <th>Arrival Time</th>\n",
       "      <th>Flight Duration</th>\n",
       "      <th>Price</th>\n",
       "    </tr>\n",
       "  </thead>\n",
       "  <tbody>\n",
       "  </tbody>\n",
       "</table>\n",
       "</div>"
      ],
      "text/plain": [
       "Empty DataFrame\n",
       "Columns: [Date, Airline, From City, To City, Departure Time, Arrival Time, Flight Duration, Price]\n",
       "Index: []"
      ]
     },
     "execution_count": 7,
     "metadata": {},
     "output_type": "execute_result"
    }
   ],
   "source": [
    "Flight_Prices.loc[Flight_Prices.groupby('Date')['Price'].idxmin()]\n",
    "Flight_Prices.drop_duplicates('Date')"
   ]
  },
  {
   "cell_type": "code",
   "execution_count": null,
   "id": "464a8bf1",
   "metadata": {},
   "outputs": [],
   "source": []
  }
 ],
 "metadata": {
  "kernelspec": {
   "display_name": "Python 3",
   "language": "python",
   "name": "python3"
  },
  "language_info": {
   "codemirror_mode": {
    "name": "ipython",
    "version": 3
   },
   "file_extension": ".py",
   "mimetype": "text/x-python",
   "name": "python",
   "nbconvert_exporter": "python",
   "pygments_lexer": "ipython3",
   "version": "3.8.8"
  }
 },
 "nbformat": 4,
 "nbformat_minor": 5
}
